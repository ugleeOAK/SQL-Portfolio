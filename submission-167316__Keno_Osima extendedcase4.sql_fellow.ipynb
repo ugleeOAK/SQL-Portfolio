{
  "metadata": {
    "c1_recart": "7.44.0-57c20131aabc1dc2a8c675852d80a7da",
    "kernelspec": {
      "display_name": "Python (Pyodide)",
      "language": "python",
      "name": "python"
    },
    "language_info": {
      "codemirror_mode": {
        "name": "python",
        "version": 3
      },
      "file_extension": ".py",
      "mimetype": "text/x-python",
      "name": "python",
      "nbconvert_exporter": "python",
      "pygments_lexer": "ipython3",
      "version": "3.8"
    }
  },
  "nbformat_minor": 4,
  "nbformat": 4,
  "cells": [
    {
      "cell_type": "markdown",
      "source": "# Finding our best-performing salespeople and products\n\n**Total points**: 24 points",
      "metadata": {
        "deletable": false,
        "editable": false,
        "nbgrader": {
          "cell_type": "markdown",
          "checksum": "bf67c55f41d29e9dbba7d2c29e4b00d1",
          "grade": false,
          "grade_id": "cell-91c8811a972c66c4",
          "locked": true,
          "schema_version": 3,
          "solution": false,
          "task": false
        }
      }
    },
    {
      "cell_type": "markdown",
      "source": "## Introduction\n\n**Business Context.** You work for AdventureWorks, a company that sells outdoor sporting equipment. The company has many different locations and has been recording the sales of different locations on various products. You, their new data scientist, have been tasked with the question: *What are our best products and salespeople and how can we use this information to improve our overall performance?*\n\nYou have been given access to the relevant data files with documentation from the IT department. Your job is to extract meaningful insights from these data files to help increase sales. First, you will look at the best products and try to see how different products perform in different categories. Second, you will analyze the best salespeople to see if the commission percentage motivates them to sell more.\n\n**Business Problem.** Your task is to *write queries in SQL to carry out the requested analysis*.\n\n**Analytical Context.** You are given the data as a SQLite database. The company has been pretty vague about how they expect you to extract insights, but you have come up with the following plan of attack:\n\n1. Load the database and ensure you can run basic queries against it\n2. Look at how product ratings and total sales are related\n3. See how products sell in different subcategories (bikes, helmets, socks, etc.)\n4. Calculate which salespeople have performed the best in 2014\n5. See if total sales are correlated with commission percentage\n\nOf course, this is only your initial plan. As you explore the database, your strategy will likely change.",
      "metadata": {
        "deletable": false,
        "editable": false,
        "nbgrader": {
          "cell_type": "markdown",
          "checksum": "6f7b9bd69ed0660132b3e9a8f3ec5c4a",
          "grade": false,
          "grade_id": "cell-e950dba2bec7261c",
          "locked": true,
          "schema_version": 3,
          "solution": false,
          "task": false
        },
        "tags": [
          "4_min"
        ]
      }
    },
    {
      "cell_type": "markdown",
      "source": "## Overview of the data\n\nThe data for this case is contained in the [`AdventureWorks.db`](/extended.sql_fellow/files/AdventureWorks.db) SQLite database. We will be focusing on the tables that belong to the Sales and Product categories. Complete documentation, with schemas, for the original data (of which you have only a subset) can be found [here](https://dataedo.com/download/AdventureWorks.pdf).\n\n**Product Tables (Pg. 34 in documentation):**\n* **Product**: one row per product that the company sells\n* **ProductReview**: one row per rating and review left by customers\n* **ProductModelProductDescriptionCulture**: a link between products and their longer descriptions also indicating a \"culture\" - which language and region the product is for\n* **ProductDescription**: a longer description of each product, for a specific region\n* **ProductCategory**: the broad categories that products fit into\n* **ProductSubCategory**: the narrower subcategories that products fit into\n\n**Sales Tables (Pg. 71 in documentation):**\n* **SalesPerson**: one row per salesperson, including information on their commission and performance\n* **SalesOrderHeader**: one row per sale summarizing the sale\n* **SalesOrderDetail**: many rows per sale, detailing each product that forms part of the sale\n* **SalesTerritory**: the different territories where products are sold, including performance\n* **CountryRegionCurrency**: the currency used by each region\n* **CurrencyRate**: the average and closing exchange rates for each currency compared to the USD\n\n**Tip**: Review the documentation carefully to learn more about the tables (like relevant columns in each) and the relationships between them. Note that not all columns may be available in the subset provided in this case as they are not necessary for the following exercises. ",
      "metadata": {
        "deletable": false,
        "nbgrader": {
          "cell_type": "markdown",
          "checksum": "18da17721b45f3b69354b0e5900fb770",
          "grade": false,
          "grade_id": "cell-cba9ff636a6f2ba8",
          "locked": true,
          "schema_version": 3,
          "solution": false,
          "task": false
        },
        "tags": [
          "6_min"
        ]
      }
    },
    {
      "cell_type": "markdown",
      "source": "Importing the libraries:",
      "metadata": {
        "deletable": false,
        "editable": false,
        "nbgrader": {
          "cell_type": "markdown",
          "checksum": "0fabce297752f580b3c9bd48b1923794",
          "grade": false,
          "grade_id": "cell-f3b077034afbeb10",
          "locked": true,
          "schema_version": 3,
          "solution": false,
          "task": false
        }
      }
    },
    {
      "cell_type": "code",
      "source": "import pandas as pd\nimport sqlite3",
      "metadata": {
        "deletable": false,
        "editable": false,
        "nbgrader": {
          "cell_type": "code",
          "checksum": "b97215a89e169a058c5619cd92f877fe",
          "grade": false,
          "grade_id": "cell-adb721d632188af7",
          "locked": true,
          "schema_version": 3,
          "solution": false,
          "task": false
        },
        "trusted": true
      },
      "execution_count": 3,
      "outputs": []
    },
    {
      "cell_type": "markdown",
      "source": "Let's now load in the database:",
      "metadata": {
        "deletable": false,
        "editable": false,
        "nbgrader": {
          "cell_type": "markdown",
          "checksum": "5c3438560891dbdda9a267febf8f5db1",
          "grade": false,
          "grade_id": "cell-de016d23af6a879d",
          "locked": true,
          "schema_version": 3,
          "solution": false,
          "task": false
        }
      }
    },
    {
      "cell_type": "code",
      "source": "cxn = sqlite3.connect('AdventureWorks.db')",
      "metadata": {
        "deletable": false,
        "editable": false,
        "nbgrader": {
          "cell_type": "code",
          "checksum": "ac1fa82ad16dab5b85f9af384dfc1d74",
          "grade": false,
          "grade_id": "cell-d9dd892261439505",
          "locked": true,
          "schema_version": 3,
          "solution": false,
          "task": false
        },
        "trusted": true
      },
      "execution_count": 4,
      "outputs": []
    },
    {
      "cell_type": "markdown",
      "source": "To run SQL queries from within this notebook, you should define a variable that includes the SQL statement at the start of your code cell, like this:",
      "metadata": {
        "deletable": false,
        "editable": false,
        "nbgrader": {
          "cell_type": "markdown",
          "checksum": "f7587cceeca461fc3977b4462144eee5",
          "grade": false,
          "grade_id": "cell-a0c2bec563c45af2",
          "locked": true,
          "schema_version": 3,
          "solution": false,
          "task": false
        }
      }
    },
    {
      "cell_type": "code",
      "source": "# Name your variable five_products\nfive_products = \"\"\"\n    SELECT * FROM product LIMIT 5;\n\"\"\"\n\npd.read_sql(five_products, cxn)",
      "metadata": {
        "deletable": false,
        "editable": false,
        "nbgrader": {
          "cell_type": "code",
          "checksum": "3c4c1119441972ae2918f80bfe2fa145",
          "grade": false,
          "grade_id": "cell-1c377e58b7758e21",
          "locked": true,
          "schema_version": 3,
          "solution": false,
          "task": false
        },
        "trusted": true
      },
      "execution_count": 5,
      "outputs": [
        {
          "execution_count": 5,
          "output_type": "execute_result",
          "data": {
            "text/plain": "   productid                   NAME productnumber makeflag finishedgoodsflag  \\\n0          1        Adjustable Race       AR-5381        f                 f   \n1          2           Bearing Ball       BA-8327        f                 f   \n2          3        BB Ball Bearing       BE-2349        t                 f   \n3          4  Headset Ball Bearings       BE-2908        f                 f   \n4        316                  Blade       BL-2036        t                 f   \n\n  color  safetystocklevel  reorderpoint  standardcost  listprice  ...  \\\n0                    1000           750           0.0        0.0  ...   \n1                    1000           750           0.0        0.0  ...   \n2                     800           600           0.0        0.0  ...   \n3                     800           600           0.0        0.0  ...   \n4                     800           600           0.0        0.0  ...   \n\n  productline class style productsubcategoryid  productmodelid  \\\n0                                                                \n1                                                                \n2                                                                \n3                                                                \n4                                                                \n\n         sellstartdate sellenddate discontinueddate  \\\n0  2008-04-30 00:00:00                                \n1  2008-04-30 00:00:00                                \n2  2008-04-30 00:00:00                                \n3  2008-04-30 00:00:00                                \n4  2008-04-30 00:00:00                                \n\n                                rowguid             modifieddate  \n0  694215b7-08f7-4c0d-acb1-d734ba44c0c8  2014-02-08 10:01:36.827  \n1  58ae3c20-4f3a-4749-a7d4-d568806cc537  2014-02-08 10:01:36.827  \n2  9c21aed2-5bfa-4f18-bcb8-f11638dc2e4e  2014-02-08 10:01:36.827  \n3  ecfed6cb-51ff-49b5-b06c-7d8ac834db8b  2014-02-08 10:01:36.827  \n4  e73e9750-603b-4131-89f5-3dd15ed5ff80  2014-02-08 10:01:36.827  \n\n[5 rows x 25 columns]",
            "text/html": "<div>\n<style scoped>\n    .dataframe tbody tr th:only-of-type {\n        vertical-align: middle;\n    }\n\n    .dataframe tbody tr th {\n        vertical-align: top;\n    }\n\n    .dataframe thead th {\n        text-align: right;\n    }\n</style>\n<table border=\"1\" class=\"dataframe\">\n  <thead>\n    <tr style=\"text-align: right;\">\n      <th></th>\n      <th>productid</th>\n      <th>NAME</th>\n      <th>productnumber</th>\n      <th>makeflag</th>\n      <th>finishedgoodsflag</th>\n      <th>color</th>\n      <th>safetystocklevel</th>\n      <th>reorderpoint</th>\n      <th>standardcost</th>\n      <th>listprice</th>\n      <th>...</th>\n      <th>productline</th>\n      <th>class</th>\n      <th>style</th>\n      <th>productsubcategoryid</th>\n      <th>productmodelid</th>\n      <th>sellstartdate</th>\n      <th>sellenddate</th>\n      <th>discontinueddate</th>\n      <th>rowguid</th>\n      <th>modifieddate</th>\n    </tr>\n  </thead>\n  <tbody>\n    <tr>\n      <th>0</th>\n      <td>1</td>\n      <td>Adjustable Race</td>\n      <td>AR-5381</td>\n      <td>f</td>\n      <td>f</td>\n      <td></td>\n      <td>1000</td>\n      <td>750</td>\n      <td>0.0</td>\n      <td>0.0</td>\n      <td>...</td>\n      <td></td>\n      <td></td>\n      <td></td>\n      <td></td>\n      <td></td>\n      <td>2008-04-30 00:00:00</td>\n      <td></td>\n      <td></td>\n      <td>694215b7-08f7-4c0d-acb1-d734ba44c0c8</td>\n      <td>2014-02-08 10:01:36.827</td>\n    </tr>\n    <tr>\n      <th>1</th>\n      <td>2</td>\n      <td>Bearing Ball</td>\n      <td>BA-8327</td>\n      <td>f</td>\n      <td>f</td>\n      <td></td>\n      <td>1000</td>\n      <td>750</td>\n      <td>0.0</td>\n      <td>0.0</td>\n      <td>...</td>\n      <td></td>\n      <td></td>\n      <td></td>\n      <td></td>\n      <td></td>\n      <td>2008-04-30 00:00:00</td>\n      <td></td>\n      <td></td>\n      <td>58ae3c20-4f3a-4749-a7d4-d568806cc537</td>\n      <td>2014-02-08 10:01:36.827</td>\n    </tr>\n    <tr>\n      <th>2</th>\n      <td>3</td>\n      <td>BB Ball Bearing</td>\n      <td>BE-2349</td>\n      <td>t</td>\n      <td>f</td>\n      <td></td>\n      <td>800</td>\n      <td>600</td>\n      <td>0.0</td>\n      <td>0.0</td>\n      <td>...</td>\n      <td></td>\n      <td></td>\n      <td></td>\n      <td></td>\n      <td></td>\n      <td>2008-04-30 00:00:00</td>\n      <td></td>\n      <td></td>\n      <td>9c21aed2-5bfa-4f18-bcb8-f11638dc2e4e</td>\n      <td>2014-02-08 10:01:36.827</td>\n    </tr>\n    <tr>\n      <th>3</th>\n      <td>4</td>\n      <td>Headset Ball Bearings</td>\n      <td>BE-2908</td>\n      <td>f</td>\n      <td>f</td>\n      <td></td>\n      <td>800</td>\n      <td>600</td>\n      <td>0.0</td>\n      <td>0.0</td>\n      <td>...</td>\n      <td></td>\n      <td></td>\n      <td></td>\n      <td></td>\n      <td></td>\n      <td>2008-04-30 00:00:00</td>\n      <td></td>\n      <td></td>\n      <td>ecfed6cb-51ff-49b5-b06c-7d8ac834db8b</td>\n      <td>2014-02-08 10:01:36.827</td>\n    </tr>\n    <tr>\n      <th>4</th>\n      <td>316</td>\n      <td>Blade</td>\n      <td>BL-2036</td>\n      <td>t</td>\n      <td>f</td>\n      <td></td>\n      <td>800</td>\n      <td>600</td>\n      <td>0.0</td>\n      <td>0.0</td>\n      <td>...</td>\n      <td></td>\n      <td></td>\n      <td></td>\n      <td></td>\n      <td></td>\n      <td>2008-04-30 00:00:00</td>\n      <td></td>\n      <td></td>\n      <td>e73e9750-603b-4131-89f5-3dd15ed5ff80</td>\n      <td>2014-02-08 10:01:36.827</td>\n    </tr>\n  </tbody>\n</table>\n<p>5 rows × 25 columns</p>\n</div>"
          },
          "metadata": {}
        }
      ]
    },
    {
      "cell_type": "markdown",
      "source": "#### How to input answers\n\nTo solve the exercises of this extended case, you will be asked to assign SQL code to Python string variables. Remember that you can use triple quotes to assign multiple-line text blocks to a variable. For example,\n\n~~~python\nrating_ranking = \"\"\"\n    SELECT\n        product.productid\n    FROM\n        product\n    LIMIT 5\n\"\"\"\n~~~\n\nFor each exercise, the exact string variable you must use in your code is provided as a comment like this: ",
      "metadata": {
        "deletable": false,
        "editable": false,
        "nbgrader": {
          "cell_type": "markdown",
          "checksum": "f0244402b0cdb2c0a55f2ba7675c0078",
          "grade": false,
          "grade_id": "cell-7de958a9dec9cc82",
          "locked": true,
          "schema_version": 3,
          "solution": false,
          "task": false
        },
        "tags": [
          "2_min"
        ]
      }
    },
    {
      "cell_type": "code",
      "source": "# Name your variable rating_ranking",
      "metadata": {
        "trusted": true
      },
      "execution_count": null,
      "outputs": []
    },
    {
      "cell_type": "markdown",
      "source": "#### How to verify answers\n\nNote that if you want to verify if your code executes correctly, you must execute the query by using the variable that defines your SQL query statement and then the `pd.read_sql()` method to execute the query like this:\n\n~~~python\n# Name your variable rating_ranking\nrating_ranking = \"\"\"\n    SELECT\n        product.productid\n    FROM\n        product\n    LIMIT 5\n\"\"\"\n\npd.read_sql(rating_ranking, cxn)\n~~~\n\nYour answers, will be graded using the variable you created, so be sure that the code that you successfully tested is indeed the code that you assigned to the variable before you submit the extended case.\n\nDo not round your results (ie., leave them with as many decimal digits they have). Also, be sure to name your columns *exactly* as they are in the sample tables in each exercise. Otherwise you won't get any points when we run our tests after you've submitted your homework.\n\n#### Optional and graded exercises\n\nGraded exercises contribute to your final grade. You will see how many points you will get for each graded exercise. Optional Exercises offer extra practice without affecting your grade, allowing you to explore, learn, and grow without fear of mistakes. Embrace all exercises to enhance your knowledge, build confidence, and reach your full potential.",
      "metadata": {
        "deletable": false,
        "editable": false,
        "tags": []
      }
    },
    {
      "cell_type": "markdown",
      "source": "## Finding our most popular products\n\nThe company would like to know which of their products is the most popular among customers. You figure that the average rating given in reviews is correlated with the number of sales of a particular product (that products with higher reviews have more sales).",
      "metadata": {
        "deletable": false,
        "editable": false,
        "nbgrader": {
          "cell_type": "markdown",
          "checksum": "29a7312b55ee514f251b5d82c139b2b8",
          "grade": false,
          "grade_id": "cell-bcc87dd006a49dfa",
          "locked": true,
          "schema_version": 3,
          "solution": false,
          "task": false
        }
      }
    },
    {
      "cell_type": "markdown",
      "source": "### Exercise 1 (1 point)\n\nUsing the `product` and `productreview` tables, `INNER JOIN` them and rank the products according to their average review rating. Save the SQL code in a string variable called `rating_ranking`. Please make *absolutely sure* to name your variable exactly that or otherwise your answer will not be recorded.\n\nYour output should look like this:\n\n| productid \t| NAME \t| avgrating \t| num_ratings \t|\n|-:\t|-:\t|-:\t|-\t|\n| 709 \t| Mountain Bike Socks, M \t| 5.0 \t| 1 \t|\n| ... \t| ... \t| ... \t| ... \t|\n",
      "metadata": {
        "deletable": false,
        "editable": false,
        "nbgrader": {
          "cell_type": "markdown",
          "checksum": "8b6b5a8b35f7574ef6cd4e1ca11a5ef1",
          "grade": false,
          "grade_id": "cell-004a91c529741bd6",
          "locked": true,
          "schema_version": 3,
          "solution": false,
          "task": false
        },
        "tags": [
          "10_min"
        ]
      }
    },
    {
      "cell_type": "code",
      "source": "# Name your variable rating_ranking\n# YOUR CODE HERE\nrating_ranking = \"\"\"\n    SELECT product.productid, product.name, AVG(productreview.rating) AS avgrating, COUNT(productreview.rating) AS num_ratings\n    FROM product\n    INNER JOIN productreview ON product.productid = productreview.productid\n    GROUP BY product.productid;\n\"\"\"\n\npd.read_sql(rating_ranking, cxn)",
      "metadata": {
        "deletable": false,
        "nbgrader": {
          "cell_type": "code",
          "checksum": "6516b5bac2fa50ea6165e5157a9eddee",
          "grade": false,
          "grade_id": "cell-78bd02c9a082e60a",
          "locked": false,
          "schema_version": 3,
          "solution": true,
          "task": false
        },
        "trusted": true
      },
      "execution_count": 16,
      "outputs": [
        {
          "execution_count": 16,
          "output_type": "execute_result",
          "data": {
            "text/plain": "   productid                    NAME  avgrating  num_ratings\n0        709  Mountain Bike Socks, M        5.0            1\n1        798   Road-550-W Yellow, 40        5.0            1\n2        937       HL Mountain Pedal        3.0            2",
            "text/html": "<div>\n<style scoped>\n    .dataframe tbody tr th:only-of-type {\n        vertical-align: middle;\n    }\n\n    .dataframe tbody tr th {\n        vertical-align: top;\n    }\n\n    .dataframe thead th {\n        text-align: right;\n    }\n</style>\n<table border=\"1\" class=\"dataframe\">\n  <thead>\n    <tr style=\"text-align: right;\">\n      <th></th>\n      <th>productid</th>\n      <th>NAME</th>\n      <th>avgrating</th>\n      <th>num_ratings</th>\n    </tr>\n  </thead>\n  <tbody>\n    <tr>\n      <th>0</th>\n      <td>709</td>\n      <td>Mountain Bike Socks, M</td>\n      <td>5.0</td>\n      <td>1</td>\n    </tr>\n    <tr>\n      <th>1</th>\n      <td>798</td>\n      <td>Road-550-W Yellow, 40</td>\n      <td>5.0</td>\n      <td>1</td>\n    </tr>\n    <tr>\n      <th>2</th>\n      <td>937</td>\n      <td>HL Mountain Pedal</td>\n      <td>3.0</td>\n      <td>2</td>\n    </tr>\n  </tbody>\n</table>\n</div>"
          },
          "metadata": {}
        }
      ]
    },
    {
      "cell_type": "markdown",
      "source": "### Exercise 2 \n\nMuch to your disappointment, there are only three products with ratings and only four reviews in total! This is nowhere near enough to perform an analysis of the correlation between reviews and total sales. Since we cannot infer the most popular products from the reviews, we will go with an alternative strategy.\n\n#### 2.1 (1 point)\n\nGet the product model ID and description for each product. Include only descriptions for which `productmodelproductdescriptionculture.cultureid = 'en'`.\n\nYour output should look like this:\n\n<table border=\"1\" class=\"dataframe\">  <thead>    <tr style=\"text-align: right;\">      <th>productmodelid</th>      <th>description</th>    </tr>  </thead>  <tbody>    <tr>      <td>1</td>      <td>Light-weight, wind-resistant, packs to fit into a pocket.</td>    </tr>    <tr>      <td>2</td>      <td>Traditional style with a flip-up brim; one-size fits all.</td>    </tr>    <tr>      <td>3</td>      <td>Synthetic palm, flexible knuckles, breathable mesh upper. Worn by the AWC team riders.</td>    </tr>    <tr>      <td>...</td>      <td>...</td>    </tr>  </tbody></table>",
      "metadata": {
        "deletable": false,
        "editable": false,
        "nbgrader": {
          "cell_type": "markdown",
          "checksum": "b7c065a813a3db7086a4bdd0751a6787",
          "grade": false,
          "grade_id": "cell-f7d713623329cd38",
          "locked": true,
          "schema_version": 3,
          "solution": false,
          "task": false
        },
        "tags": [
          "12_min"
        ]
      }
    },
    {
      "cell_type": "code",
      "source": "# Name your variable productmodelid_description\n# YOUR CODE HERE\nproductmodelid_description = \"\"\"\n    SELECT productmodelproductdescriptionculture.productmodelid, productdescription.description \n    FROM productmodelproductdescriptionculture\n    JOIN productdescription ON productmodelproductdescriptionculture.productdescriptionid = productdescription.productdescriptionid\n    WHERE productmodelproductdescriptionculture.cultureid = 'en'\n\"\"\"\n\npd.read_sql(productmodelid_description, cxn)",
      "metadata": {
        "deletable": false,
        "nbgrader": {
          "cell_type": "code",
          "checksum": "35569c25bda7fc2b83305bd8b282add0",
          "grade": false,
          "grade_id": "cell-3ed82cf7bb2b9490",
          "locked": false,
          "schema_version": 3,
          "solution": true,
          "task": false
        },
        "trusted": true
      },
      "execution_count": 116,
      "outputs": [
        {
          "execution_count": 116,
          "output_type": "execute_result",
          "data": {
            "text/plain": "     productmodelid                                        description\n0                 1  Light-weight, wind-resistant, packs to fit int...\n1                 2  Traditional style with a flip-up brim; one-siz...\n2                 3  Synthetic palm, flexible knuckles, breathable ...\n3                 4  Full padding, improved finger flex, durable pa...\n4                 5  Each frame is hand-crafted in our Bothell faci...\n..              ...                                                ...\n122             123  Replacement mountain wheel for entry-level rider.\n123             124  Replacement mountain wheel for the casual to s...\n124             125       High-performance mountain replacement wheel.\n125             126  Replacement road rear wheel for entry-level cy...\n126             127                                  Wide-link design.\n\n[127 rows x 2 columns]",
            "text/html": "<div>\n<style scoped>\n    .dataframe tbody tr th:only-of-type {\n        vertical-align: middle;\n    }\n\n    .dataframe tbody tr th {\n        vertical-align: top;\n    }\n\n    .dataframe thead th {\n        text-align: right;\n    }\n</style>\n<table border=\"1\" class=\"dataframe\">\n  <thead>\n    <tr style=\"text-align: right;\">\n      <th></th>\n      <th>productmodelid</th>\n      <th>description</th>\n    </tr>\n  </thead>\n  <tbody>\n    <tr>\n      <th>0</th>\n      <td>1</td>\n      <td>Light-weight, wind-resistant, packs to fit int...</td>\n    </tr>\n    <tr>\n      <th>1</th>\n      <td>2</td>\n      <td>Traditional style with a flip-up brim; one-siz...</td>\n    </tr>\n    <tr>\n      <th>2</th>\n      <td>3</td>\n      <td>Synthetic palm, flexible knuckles, breathable ...</td>\n    </tr>\n    <tr>\n      <th>3</th>\n      <td>4</td>\n      <td>Full padding, improved finger flex, durable pa...</td>\n    </tr>\n    <tr>\n      <th>4</th>\n      <td>5</td>\n      <td>Each frame is hand-crafted in our Bothell faci...</td>\n    </tr>\n    <tr>\n      <th>...</th>\n      <td>...</td>\n      <td>...</td>\n    </tr>\n    <tr>\n      <th>122</th>\n      <td>123</td>\n      <td>Replacement mountain wheel for entry-level rider.</td>\n    </tr>\n    <tr>\n      <th>123</th>\n      <td>124</td>\n      <td>Replacement mountain wheel for the casual to s...</td>\n    </tr>\n    <tr>\n      <th>124</th>\n      <td>125</td>\n      <td>High-performance mountain replacement wheel.</td>\n    </tr>\n    <tr>\n      <th>125</th>\n      <td>126</td>\n      <td>Replacement road rear wheel for entry-level cy...</td>\n    </tr>\n    <tr>\n      <th>126</th>\n      <td>127</td>\n      <td>Wide-link design.</td>\n    </tr>\n  </tbody>\n</table>\n<p>127 rows × 2 columns</p>\n</div>"
          },
          "metadata": {}
        }
      ]
    },
    {
      "cell_type": "markdown",
      "source": "#### 2.2 (Optional)\n\nGet the model ID, name, description, and total number of sales for each product and display the top-10 selling products. You can infer how often products have been sold by looking at the `salesorderdetail` table (each row might indicate more than one sale, so take note of `OrderQty`).\n\nYour output should look like this:\n\n<table border=\"1\" class=\"dataframe\">  <thead>    <tr style=\"text-align: right;\">      <th>productmodelid</th>      <th>description</th>      <th>NAME</th>      <th>total_orders</th>    </tr>  </thead>  <tbody>    <tr>      <td>2</td>      <td>Traditional style with a flip-up brim; one-size fits all.</td>      <td>AWC Logo Cap</td>      <td>8311</td>    </tr>    <tr>      <td>111</td>      <td>AWC logo water bottle - holds 30 oz; leak-proof.</td>      <td>Water Bottle - 30 oz.</td>      <td>6815</td>    </tr>    <tr>      <td>33</td>      <td>Universal fit, well-vented, lightweight , snap-on visor.</td>      <td>Sport-100 Helmet, Blue</td>      <td>6743</td>    </tr>    <tr>      <td>...</td>      <td>...</td>      <td>...</td>      <td>...</td>    </tr>  </tbody></table>\n\n**Hint:** Make the query you wrote in exercise 2.1 a temporary view with the `WITH ... AS` syntax. It will give you the English descriptions of the products as a starting point. Then `INNER JOIN` it with all the other relevant tables.",
      "metadata": {
        "deletable": false,
        "editable": false,
        "nbgrader": {
          "cell_type": "markdown",
          "checksum": "d476652b6ca7f953e8d467ecc6b31494",
          "grade": false,
          "grade_id": "cell-246ad6b432b0fddb",
          "locked": true,
          "schema_version": 3,
          "solution": false,
          "task": false
        },
        "tags": [
          "15_min"
        ]
      }
    },
    {
      "cell_type": "code",
      "source": "# Name your variable description_totalorders\n# YOUR CODE HERE\n\nraise NotImplementedError() # Remove this line when you enter your solution",
      "metadata": {
        "deletable": false,
        "nbgrader": {
          "cell_type": "code",
          "checksum": "eccc52ebb4c0f7cadf54dbdd9a495b7b",
          "grade": false,
          "grade_id": "cell-951c87d78a1b09e4",
          "locked": false,
          "schema_version": 3,
          "solution": true,
          "task": false
        },
        "trusted": true
      },
      "execution_count": null,
      "outputs": []
    },
    {
      "cell_type": "markdown",
      "source": "### Exercise 3\n\nTo get a better sense of the sales, let's look at the correlation between quantity sold and price for each subcategory.",
      "metadata": {
        "deletable": false,
        "editable": false,
        "nbgrader": {
          "cell_type": "markdown",
          "checksum": "245975caffbb48a0db63b7e533142368",
          "grade": false,
          "grade_id": "cell-0c592ffb20fc0508",
          "locked": true,
          "schema_version": 3,
          "solution": false,
          "task": false
        }
      }
    },
    {
      "cell_type": "markdown",
      "source": "#### 3.1 (1 point)\n\nWrite a query that shows how many items were ordered in total for every product in the database. Do not filter by culture.\n\nYour output should look like this:\n\n| productid \t| quantity \t|\n|-:\t|-:\t|\n| 707 \t| 6266 \t|\n| 708 \t| 6532 \t|\n| 709 \t| 1107 \t|\n| 710 \t| 90 \t|\n| 711 \t| 6743 \t|\n| 712 \t| 8311 \t|\n| 713 \t| 429 \t|\n| 714 \t| 3636 \t|\n| ... \t| ... \t|\n\n**Hint:** Use the `salesorderdetail` table.",
      "metadata": {
        "deletable": false,
        "editable": false,
        "nbgrader": {
          "cell_type": "markdown",
          "checksum": "db9ffb9f02006629aaeef37ad992309c",
          "grade": false,
          "grade_id": "cell-e6916ae13c89426b",
          "locked": true,
          "schema_version": 3,
          "solution": false,
          "task": false
        },
        "tags": [
          "7_min"
        ]
      }
    },
    {
      "cell_type": "code",
      "source": "# Name your variable quantities_ordered\n# YOUR CODE HERE\nquantities_ordered = \"\"\"\nSELECT salesorderdetail.productid, SUM(salesorderdetail.orderqty) AS quantity\nFROM salesorderdetail\nGROUP BY salesorderdetail.productid\n\"\"\"\n\npd.read_sql(quantities_ordered, cxn)",
      "metadata": {
        "deletable": false,
        "nbgrader": {
          "cell_type": "code",
          "checksum": "b99949461855e68db824bdb5aa2a4825",
          "grade": false,
          "grade_id": "cell-5dff218b27867982",
          "locked": false,
          "schema_version": 3,
          "solution": true,
          "task": false
        },
        "trusted": true
      },
      "execution_count": 117,
      "outputs": [
        {
          "execution_count": 117,
          "output_type": "execute_result",
          "data": {
            "text/plain": "     productid  quantity\n0          707      6266\n1          708      6532\n2          709      1107\n3          710        90\n4          711      6743\n..         ...       ...\n261        994       378\n262        996       543\n263        997       656\n264        998      1556\n265        999      1338\n\n[266 rows x 2 columns]",
            "text/html": "<div>\n<style scoped>\n    .dataframe tbody tr th:only-of-type {\n        vertical-align: middle;\n    }\n\n    .dataframe tbody tr th {\n        vertical-align: top;\n    }\n\n    .dataframe thead th {\n        text-align: right;\n    }\n</style>\n<table border=\"1\" class=\"dataframe\">\n  <thead>\n    <tr style=\"text-align: right;\">\n      <th></th>\n      <th>productid</th>\n      <th>quantity</th>\n    </tr>\n  </thead>\n  <tbody>\n    <tr>\n      <th>0</th>\n      <td>707</td>\n      <td>6266</td>\n    </tr>\n    <tr>\n      <th>1</th>\n      <td>708</td>\n      <td>6532</td>\n    </tr>\n    <tr>\n      <th>2</th>\n      <td>709</td>\n      <td>1107</td>\n    </tr>\n    <tr>\n      <th>3</th>\n      <td>710</td>\n      <td>90</td>\n    </tr>\n    <tr>\n      <th>4</th>\n      <td>711</td>\n      <td>6743</td>\n    </tr>\n    <tr>\n      <th>...</th>\n      <td>...</td>\n      <td>...</td>\n    </tr>\n    <tr>\n      <th>261</th>\n      <td>994</td>\n      <td>378</td>\n    </tr>\n    <tr>\n      <th>262</th>\n      <td>996</td>\n      <td>543</td>\n    </tr>\n    <tr>\n      <th>263</th>\n      <td>997</td>\n      <td>656</td>\n    </tr>\n    <tr>\n      <th>264</th>\n      <td>998</td>\n      <td>1556</td>\n    </tr>\n    <tr>\n      <th>265</th>\n      <td>999</td>\n      <td>1338</td>\n    </tr>\n  </tbody>\n</table>\n<p>266 rows × 2 columns</p>\n</div>"
          },
          "metadata": {}
        }
      ]
    },
    {
      "cell_type": "markdown",
      "source": "#### 3.2 (1 point)\n\nWrite a query that shows the list price for each product, alongside its category and subcategory. Your output should look like this:\n\n| productid \t| category \t| subcategory \t| listprice \t|\n|-:\t|-:\t|-:\t|-:\t|\n| 680 \t| Components \t| Road Frames \t| 1431.5 \t|\n| 706 \t| Components \t| Road Frames \t| 1431.5 \t|\n| 707 \t| Accessories \t| Helmets \t| 34.99 \t|\n| 708 \t| Accessories \t| Helmets \t| 34.99 \t|\n| 709 \t| Clothing \t| Socks \t| 9.5 \t|\n| 710 \t| Clothing \t| Socks \t| 9.5 \t|\n| 711 \t| Accessories \t| Helmets \t| 34.99 \t|\n| 712 \t| Clothing \t| Caps \t| 8.99 \t|\n| 713 \t| Clothing \t| Jerseys \t| 49.99 \t|\n| 714 \t| Clothing \t| Jerseys \t| 49.99 \t|\n| 715 \t| Clothing \t| Jerseys \t| 49.99 \t|\n| 716 \t| Clothing \t| Jerseys \t| 49.99 \t|\n| 717 \t| Components \t| Road Frames \t| 1431.5 \t|\n| 718 \t| Components \t| Road Frames \t| 1431.5 \t|\n| 719 \t| Components \t| Road Frames \t| 1431.5 \t|\n| ... \t| ... \t| ... \t| ... \t|\n\n**Hint:** You will find the product categories in the `productcategory` table, and the subcategories in the `productsubcategory` table.",
      "metadata": {
        "deletable": false,
        "editable": false,
        "nbgrader": {
          "cell_type": "markdown",
          "checksum": "6db28cc198a02dc250b5869f1c7cca7d",
          "grade": false,
          "grade_id": "cell-328d15d4ea818be3",
          "locked": true,
          "schema_version": 3,
          "solution": false,
          "task": false
        },
        "tags": [
          "12_min"
        ]
      }
    },
    {
      "cell_type": "code",
      "source": "# Name your variable products_prices\n# YOUR CODE HERE\nproducts_prices = \"\"\"\nSELECT product.productid, productcategory.name AS category, productsubcategory.name AS subcategory, product.listprice\nFROM product\nINNER JOIN productsubcategory ON product.productsubcategoryid = productsubcategory.productsubcategoryid\nINNER JOIN productcategory ON productsubcategory.productcategoryid = productcategory.productcategoryid;\n\n\"\"\"\n\npd.read_sql(products_prices, cxn)",
      "metadata": {
        "deletable": false,
        "nbgrader": {
          "cell_type": "code",
          "checksum": "d7ce5a07a1e871827d603d5112941b86",
          "grade": false,
          "grade_id": "cell-4e67d35f4d86e660",
          "locked": false,
          "schema_version": 3,
          "solution": true,
          "task": false
        },
        "trusted": true
      },
      "execution_count": 77,
      "outputs": [
        {
          "execution_count": 77,
          "output_type": "execute_result",
          "data": {
            "text/plain": "     productid     category      subcategory  listprice\n0          680   Components      Road Frames    1431.50\n1          706   Components      Road Frames    1431.50\n2          707  Accessories          Helmets      34.99\n3          708  Accessories          Helmets      34.99\n4          709     Clothing            Socks       9.50\n..         ...          ...              ...        ...\n290        995   Components  Bottom Brackets     101.24\n291        996   Components  Bottom Brackets     121.49\n292        997        Bikes       Road Bikes     539.99\n293        998        Bikes       Road Bikes     539.99\n294        999        Bikes       Road Bikes     539.99\n\n[295 rows x 4 columns]",
            "text/html": "<div>\n<style scoped>\n    .dataframe tbody tr th:only-of-type {\n        vertical-align: middle;\n    }\n\n    .dataframe tbody tr th {\n        vertical-align: top;\n    }\n\n    .dataframe thead th {\n        text-align: right;\n    }\n</style>\n<table border=\"1\" class=\"dataframe\">\n  <thead>\n    <tr style=\"text-align: right;\">\n      <th></th>\n      <th>productid</th>\n      <th>category</th>\n      <th>subcategory</th>\n      <th>listprice</th>\n    </tr>\n  </thead>\n  <tbody>\n    <tr>\n      <th>0</th>\n      <td>680</td>\n      <td>Components</td>\n      <td>Road Frames</td>\n      <td>1431.50</td>\n    </tr>\n    <tr>\n      <th>1</th>\n      <td>706</td>\n      <td>Components</td>\n      <td>Road Frames</td>\n      <td>1431.50</td>\n    </tr>\n    <tr>\n      <th>2</th>\n      <td>707</td>\n      <td>Accessories</td>\n      <td>Helmets</td>\n      <td>34.99</td>\n    </tr>\n    <tr>\n      <th>3</th>\n      <td>708</td>\n      <td>Accessories</td>\n      <td>Helmets</td>\n      <td>34.99</td>\n    </tr>\n    <tr>\n      <th>4</th>\n      <td>709</td>\n      <td>Clothing</td>\n      <td>Socks</td>\n      <td>9.50</td>\n    </tr>\n    <tr>\n      <th>...</th>\n      <td>...</td>\n      <td>...</td>\n      <td>...</td>\n      <td>...</td>\n    </tr>\n    <tr>\n      <th>290</th>\n      <td>995</td>\n      <td>Components</td>\n      <td>Bottom Brackets</td>\n      <td>101.24</td>\n    </tr>\n    <tr>\n      <th>291</th>\n      <td>996</td>\n      <td>Components</td>\n      <td>Bottom Brackets</td>\n      <td>121.49</td>\n    </tr>\n    <tr>\n      <th>292</th>\n      <td>997</td>\n      <td>Bikes</td>\n      <td>Road Bikes</td>\n      <td>539.99</td>\n    </tr>\n    <tr>\n      <th>293</th>\n      <td>998</td>\n      <td>Bikes</td>\n      <td>Road Bikes</td>\n      <td>539.99</td>\n    </tr>\n    <tr>\n      <th>294</th>\n      <td>999</td>\n      <td>Bikes</td>\n      <td>Road Bikes</td>\n      <td>539.99</td>\n    </tr>\n  </tbody>\n</table>\n<p>295 rows × 4 columns</p>\n</div>"
          },
          "metadata": {}
        }
      ]
    },
    {
      "cell_type": "markdown",
      "source": "#### 3.3 (Optional)\n\nMerge the queries from exercises 3.1 and 3.2 to obtain a table that shows, for each subcategory, the average list price and the total quantity of products sold. Your output should look like this:\n\n| category \t| subcategory \t| average_price_in_subcategory \t| total_items_sold_in_subcategory \t|\n|-:\t|-:\t|-:\t|-:\t|\n| Accessories \t| Bike Racks \t| 120.0 \t| 3166 \t|\n| Accessories \t| Bike Stands \t| 159.0 \t| 249 \t|\n| Accessories \t| Bottles and Cages \t| 7.989999999999999 \t| 10552 \t|\n| Accessories \t| Cleaners \t| 7.95 \t| 3319 \t|\n| Accessories \t| Fenders \t| 21.98 \t| 2121 \t|\n| Accessories \t| Helmets \t| 34.99 \t| 19541 \t|\n| Accessories \t| Hydration Packs \t| 54.99 \t| 2761 \t|\n| Accessories \t| Locks \t| 25.0 \t| 1087 \t|\n| Accessories \t| Pumps \t| 19.99 \t| 1130 \t|\n| Accessories \t| Tires and Tubes \t| 19.482727272727274 \t| 18006 \t|\n| Bikes \t| Mountain Bikes \t| 1683.3649999999982 \t| 28321 \t|\n| Bikes \t| Road Bikes \t| 1597.45 \t| 47196 \t|\n| Bikes \t| Touring Bikes \t| 1425.2481818181814 \t| 14751 \t|\n| Clothing \t| Bib-Shorts \t| 89.99 \t| 3125 \t|\n| ... \t| ... \t| ... \t| ... \t|\n\n**Hint:** To have two `WITH ... AS` statements in the same query, you separate the subqueries with a comma and don't write `WITH` again. Like this:\n\n~~~sql\nWITH first_query_alias AS\n(\n    SELECT ...\n),\nsecond_query_alias AS -- Notice we didn't include a second WITH here\n(\n    SELECT...\n)\nSELECT ...\n~~~",
      "metadata": {
        "deletable": false,
        "editable": false,
        "nbgrader": {
          "cell_type": "markdown",
          "checksum": "5dbcb6ebdbf7a7eeccd7b92c224cd3c6",
          "grade": false,
          "grade_id": "cell-e58b7484fb86cd28",
          "locked": true,
          "schema_version": 3,
          "solution": false,
          "task": false
        },
        "tags": [
          "10_min"
        ]
      }
    },
    {
      "cell_type": "code",
      "source": "# Name your variable prices_quantities\n# YOUR CODE HERE\nraise NotImplementedError() # Remove this line when you enter your solution",
      "metadata": {
        "deletable": false,
        "nbgrader": {
          "cell_type": "code",
          "checksum": "f8583fd555fced8cc6004ece53827e26",
          "grade": false,
          "grade_id": "cell-2b1bbc6190ec3559",
          "locked": false,
          "schema_version": 3,
          "solution": true,
          "task": false
        },
        "trusted": true
      },
      "execution_count": 68,
      "outputs": [
        {
          "ename": "<class 'NotImplementedError'>",
          "evalue": "",
          "traceback": [
            "\u001b[0;31m---------------------------------------------------------------------------\u001b[0m",
            "\u001b[0;31mNotImplementedError\u001b[0m                       Traceback (most recent call last)",
            "Cell \u001b[0;32mIn[68], line 3\u001b[0m\n\u001b[1;32m      1\u001b[0m \u001b[38;5;66;03m# Name your variable prices_quantities\u001b[39;00m\n\u001b[1;32m      2\u001b[0m \u001b[38;5;66;03m# YOUR CODE HERE\u001b[39;00m\n\u001b[0;32m----> 3\u001b[0m \u001b[38;5;28;01mraise\u001b[39;00m \u001b[38;5;167;01mNotImplementedError\u001b[39;00m() \u001b[38;5;66;03m# Remove this line when you enter your solution\u001b[39;00m\n",
            "\u001b[0;31mNotImplementedError\u001b[0m: "
          ],
          "output_type": "error"
        }
      ]
    },
    {
      "cell_type": "markdown",
      "source": "There is positive correlation between average price and items sold ($\\rho=0.68$). This is somewhat unexpected, since common sense tells us that the more expensive an item is, the lower the demand for it. It is possible that we are witnessing an instance of Simpson's Paradox here. To verify if that is indeed the case, we could instead compute the correlation coefficient for each subcategory, possibly evidencing a negative correlation coefficient in some subcategories. We will not do that right now, however, since it would make us deviate too much from our business problem.",
      "metadata": {
        "deletable": false,
        "editable": false,
        "nbgrader": {
          "cell_type": "markdown",
          "checksum": "2f42d31be594487e98ad80795243e4a7",
          "grade": false,
          "grade_id": "cell-bb89b55927c62251",
          "locked": true,
          "schema_version": 3,
          "solution": false,
          "task": false
        }
      }
    },
    {
      "cell_type": "markdown",
      "source": "## Finding our top salespeople\n\nAs mentioned earlier, we want to find our best salespeople and see whether or not we can incentivize them in an appropriate manner. Namely, we want to determine if the commission percentage we give them motivates them to make more and bigger sales.",
      "metadata": {
        "deletable": false,
        "editable": false,
        "nbgrader": {
          "cell_type": "markdown",
          "checksum": "e0e2b19adebaebb1b7b931502d7a38e8",
          "grade": false,
          "grade_id": "cell-65f8310da924a04b",
          "locked": true,
          "schema_version": 3,
          "solution": false,
          "task": false
        }
      }
    },
    {
      "cell_type": "markdown",
      "source": "### Exercise 4 (1 point)\n\nFind the top five performing salespeople by using the `salesytd` (Sales, year-to-date) column.\n\nYour output should look like this:\n\n<table border=\"1\" class=\"dataframe\">  <thead>    <tr style=\"text-align: right;\">      <th>businessentityid</th>      <th>salesytd</th>    </tr>  </thead>  <tbody>    <tr>      <td>276</td>      <td>4251368.5497</td>    </tr>    <tr>      <td>289</td>      <td>4116871.2277</td>    </tr>    <tr>      <td>275</td>      <td>3763178.1787</td>    </tr>    <tr>      <td>...</td>      <td>...</td>    </tr>  </tbody></table>\n\n**Hint:** We only need to know the `businessentityid` for each salesperson as this uniquely identifies each salesperson. Your query should therefore only have two columns: `businessentityid` and `salesytd`.",
      "metadata": {
        "deletable": false,
        "editable": false,
        "nbgrader": {
          "cell_type": "markdown",
          "checksum": "14cb6963816ea6b7d855df0d70815c40",
          "grade": false,
          "grade_id": "cell-6cda8ee742e6d487",
          "locked": true,
          "schema_version": 3,
          "solution": false,
          "task": false
        },
        "tags": [
          "6_min"
        ]
      }
    },
    {
      "cell_type": "code",
      "source": "# Name your variable salesperson_sales\n# YOUR CODE HERE\nsalesperson_sales = \"\"\"\nSELECT salesperson.businessentityid, salesperson.salesytd\nFROM salesperson\nORDER BY salesperson.salesytd DESC\nLIMIT 5\n\n\"\"\"\n\npd.read_sql(salesperson_sales, cxn)",
      "metadata": {
        "deletable": false,
        "nbgrader": {
          "cell_type": "code",
          "checksum": "808f8c73d56ecc542152aafe71189674",
          "grade": false,
          "grade_id": "cell-90c98fed73ba03e1",
          "locked": false,
          "schema_version": 3,
          "solution": true,
          "task": false
        },
        "trusted": true
      },
      "execution_count": 119,
      "outputs": [
        {
          "execution_count": 119,
          "output_type": "execute_result",
          "data": {
            "text/plain": "   businessentityid      salesytd\n0               276  4.251369e+06\n1               289  4.116871e+06\n2               275  3.763178e+06\n3               277  3.189418e+06\n4               290  3.121616e+06",
            "text/html": "<div>\n<style scoped>\n    .dataframe tbody tr th:only-of-type {\n        vertical-align: middle;\n    }\n\n    .dataframe tbody tr th {\n        vertical-align: top;\n    }\n\n    .dataframe thead th {\n        text-align: right;\n    }\n</style>\n<table border=\"1\" class=\"dataframe\">\n  <thead>\n    <tr style=\"text-align: right;\">\n      <th></th>\n      <th>businessentityid</th>\n      <th>salesytd</th>\n    </tr>\n  </thead>\n  <tbody>\n    <tr>\n      <th>0</th>\n      <td>276</td>\n      <td>4.251369e+06</td>\n    </tr>\n    <tr>\n      <th>1</th>\n      <td>289</td>\n      <td>4.116871e+06</td>\n    </tr>\n    <tr>\n      <th>2</th>\n      <td>275</td>\n      <td>3.763178e+06</td>\n    </tr>\n    <tr>\n      <th>3</th>\n      <td>277</td>\n      <td>3.189418e+06</td>\n    </tr>\n    <tr>\n      <th>4</th>\n      <td>290</td>\n      <td>3.121616e+06</td>\n    </tr>\n  </tbody>\n</table>\n</div>"
          },
          "metadata": {}
        }
      ]
    },
    {
      "cell_type": "markdown",
      "source": "### Exercise 5 (2 points)\n\nThe sales numbers from the previous query are hard-coded into the `salesperson` table, instead of dynamically calculated from each sales record. Currently, we don't know how this number is updated or much about it at all, so it's good to remain skeptical.\n\nUsing the ```salesorderheader``` table, find the top 5 salespeople who made the most sales *in the most recent year available* (2014). (There is a column called `subtotal` - use that.) Sales that do not have an associated salesperson should be excluded from your calculations and final output. All orders that were made within the 2014 calendar year should be included.\n\nYour output should look like this:\n\n<table border=\"1\" class=\"dataframe\">  <thead>    <tr style=\"text-align: right;\">      <th>salespersonid</th>      <th>totalsales</th>    </tr>  </thead>  <tbody>    <tr>      <td>289</td>      <td>1382996.5839000002</td>    </tr>    <tr>      <td>276</td>      <td>1271088.5216</td>    </tr>    <tr>      <td>...</td>      <td>...</td>    </tr>  </tbody></table>\n\n**Hint:** You can use the syntax `WHERE column >= '1970-01-01'` to generate an arbitrary date in SQLite and compare this to specific dates in the tables (in this example, dates equal to or later than Jan 1, 1970). Additionally, when you want to make sure that columns with empty or null values are excluded from a query in SQLite, you have to add a line like this one to your `WHERE` statement: `my_column IS NOT NULL AND my_column <> \"\"`. The `<>` operator is the opposite of `=`, that is, it checks that two values are different from each other.",
      "metadata": {
        "deletable": false,
        "editable": false,
        "nbgrader": {
          "cell_type": "markdown",
          "checksum": "a3c653b67a745f9ad2b90056f7ed88f7",
          "grade": false,
          "grade_id": "cell-d3ff14f90629f05c",
          "locked": true,
          "schema_version": 3,
          "solution": false,
          "task": false
        },
        "tags": [
          "8_min"
        ]
      }
    },
    {
      "cell_type": "code",
      "source": "# Name your variable salesperson_totalsales\n# YOUR CODE HERE\nsalesperson_totalsales = \"\"\"\nSELECT salesorderheader.salespersonid, SUM(salesorderheader.subtotal) AS totalsales\nFROM salesorderheader\nWHERE salesorderheader.orderdate  >= '2014-01-01' AND salesorderheader.salespersonid IS NOT NULL AND salesorderheader.salespersonid <> \"\"\nGROUP BY salespersonid\nORDER BY totalsales DESC\nLIMIT 5\n\n\"\"\"\n\npd.read_sql(salesperson_totalsales, cxn)",
      "metadata": {
        "deletable": false,
        "nbgrader": {
          "cell_type": "code",
          "checksum": "c361f30b855dbb8dc220bbfa4e0c1807",
          "grade": false,
          "grade_id": "cell-68fc837f4b1b6845",
          "locked": false,
          "schema_version": 3,
          "solution": true,
          "task": false
        },
        "trusted": true
      },
      "execution_count": 121,
      "outputs": [
        {
          "execution_count": 121,
          "output_type": "execute_result",
          "data": {
            "text/plain": "   salespersonid    totalsales\n0            289  1.382997e+06\n1            276  1.271089e+06\n2            275  1.057247e+06\n3            282  1.044811e+06\n4            277  1.040093e+06",
            "text/html": "<div>\n<style scoped>\n    .dataframe tbody tr th:only-of-type {\n        vertical-align: middle;\n    }\n\n    .dataframe tbody tr th {\n        vertical-align: top;\n    }\n\n    .dataframe thead th {\n        text-align: right;\n    }\n</style>\n<table border=\"1\" class=\"dataframe\">\n  <thead>\n    <tr style=\"text-align: right;\">\n      <th></th>\n      <th>salespersonid</th>\n      <th>totalsales</th>\n    </tr>\n  </thead>\n  <tbody>\n    <tr>\n      <th>0</th>\n      <td>289</td>\n      <td>1.382997e+06</td>\n    </tr>\n    <tr>\n      <th>1</th>\n      <td>276</td>\n      <td>1.271089e+06</td>\n    </tr>\n    <tr>\n      <th>2</th>\n      <td>275</td>\n      <td>1.057247e+06</td>\n    </tr>\n    <tr>\n      <th>3</th>\n      <td>282</td>\n      <td>1.044811e+06</td>\n    </tr>\n    <tr>\n      <th>4</th>\n      <td>277</td>\n      <td>1.040093e+06</td>\n    </tr>\n  </tbody>\n</table>\n</div>"
          },
          "metadata": {}
        }
      ]
    },
    {
      "cell_type": "markdown",
      "source": "You should see right away that there are discrepancies between the two sales totals. This makes sense because we used filters in one table and not the other. Nonetheless, for the remainder of this case, use this dynamically-calculated total as the authoritative answer.",
      "metadata": {
        "deletable": false,
        "editable": false,
        "nbgrader": {
          "cell_type": "markdown",
          "checksum": "a8e572c734394afb31bb1f6df0cdf7c0",
          "grade": false,
          "grade_id": "cell-7c8496a8cb44e106",
          "locked": true,
          "schema_version": 3,
          "solution": false,
          "task": false
        }
      }
    },
    {
      "cell_type": "markdown",
      "source": "### Exercise 6\n\nLooking at the documentation, you will see that `subtotal` in the ```salesorderheader``` table is calculated from other tables in the database. To validate this figure (instead of trusting it blindly), it could be a good idea to calculate `subtotal` manually. Using the ```salesorderdetail``` and ```salesorderheader``` tables, let's calculate the sales for each salesperson for **the year 2014** and display results for the top 5 salespeople.",
      "metadata": {
        "deletable": false,
        "editable": false,
        "nbgrader": {
          "cell_type": "markdown",
          "checksum": "ecb30244b735d37be3462b3c6b9fec1d",
          "grade": false,
          "grade_id": "cell-b761fbb4e64566d0",
          "locked": true,
          "schema_version": 3,
          "solution": false,
          "task": false
        }
      }
    },
    {
      "cell_type": "markdown",
      "source": "#### 6.1 (1 point)\n\nWrite a query that shows for each `salesorderid` (find this column in the `salesorderdetail` table) the total amount of money paid. Remember to subtract `unitpricediscount` from each item's price (`unitpricediscount` is a percentage).\n\nYour output should look like this:\n\n| salesorderid \t| ordertotal \t|\n|-:\t|-:\t|\n| 43659 \t| 20565.6206 \t|\n| 43660 \t| 1294.2529 \t|\n| 43661 \t| 32726.4786 \t|\n| 43662 \t| 28832.5289 \t|\n| 43663 \t| 419.4589 \t|\n| 43664 \t| 24432.608799999995 \t|\n| 43665 \t| 14352.7713 \t|\n| 43666 \t| 5056.4896 \t|\n| 43667 \t| 6107.081999999999 \t|\n| 43668 \t| 35944.156200000005 \t|\n| 43669 \t| 714.7043 \t|\n| ... \t| ... \t|",
      "metadata": {
        "deletable": false,
        "editable": false,
        "nbgrader": {
          "cell_type": "markdown",
          "checksum": "39a1adb6c5180b0bab09e52d8ff9d245",
          "grade": false,
          "grade_id": "cell-5062d286a906ff4a",
          "locked": true,
          "schema_version": 3,
          "solution": false,
          "task": false
        },
        "tags": [
          "6_min"
        ]
      }
    },
    {
      "cell_type": "code",
      "source": "# Name your variable order_ordertotal\n# YOUR CODE HERE\norder_ordertotal = \"\"\"\nSELECT salesorderdetail.salesorderid, SUM((salesorderdetail.unitprice * orderqty) * (1 - salesorderdetail.unitpricediscount / 100)) AS ordertotal\nFROM salesorderdetail\nGROUP BY salesorderdetail.salesorderid;\n\"\"\"\npd.read_sql(order_ordertotal,cxn)",
      "metadata": {
        "deletable": false,
        "nbgrader": {
          "cell_type": "code",
          "checksum": "53fc0b832d8ae23bb75651c6eb5527d5",
          "grade": false,
          "grade_id": "cell-c3f883645865b45a",
          "locked": false,
          "schema_version": 3,
          "solution": true,
          "task": false
        },
        "trusted": true
      },
      "execution_count": 113,
      "outputs": [
        {
          "execution_count": 113,
          "output_type": "execute_result",
          "data": {
            "text/plain": "       salesorderid  ordertotal\n0             43659  20565.6206\n1             43660   1294.2529\n2             43661  32726.4786\n3             43662  28832.5289\n4             43663    419.4589\n...             ...         ...\n31460         75119     42.2800\n31461         75120     84.9600\n31462         75121     74.9800\n31463         75122     30.9700\n31464         75123    189.9700\n\n[31465 rows x 2 columns]",
            "text/html": "<div>\n<style scoped>\n    .dataframe tbody tr th:only-of-type {\n        vertical-align: middle;\n    }\n\n    .dataframe tbody tr th {\n        vertical-align: top;\n    }\n\n    .dataframe thead th {\n        text-align: right;\n    }\n</style>\n<table border=\"1\" class=\"dataframe\">\n  <thead>\n    <tr style=\"text-align: right;\">\n      <th></th>\n      <th>salesorderid</th>\n      <th>ordertotal</th>\n    </tr>\n  </thead>\n  <tbody>\n    <tr>\n      <th>0</th>\n      <td>43659</td>\n      <td>20565.6206</td>\n    </tr>\n    <tr>\n      <th>1</th>\n      <td>43660</td>\n      <td>1294.2529</td>\n    </tr>\n    <tr>\n      <th>2</th>\n      <td>43661</td>\n      <td>32726.4786</td>\n    </tr>\n    <tr>\n      <th>3</th>\n      <td>43662</td>\n      <td>28832.5289</td>\n    </tr>\n    <tr>\n      <th>4</th>\n      <td>43663</td>\n      <td>419.4589</td>\n    </tr>\n    <tr>\n      <th>...</th>\n      <td>...</td>\n      <td>...</td>\n    </tr>\n    <tr>\n      <th>31460</th>\n      <td>75119</td>\n      <td>42.2800</td>\n    </tr>\n    <tr>\n      <th>31461</th>\n      <td>75120</td>\n      <td>84.9600</td>\n    </tr>\n    <tr>\n      <th>31462</th>\n      <td>75121</td>\n      <td>74.9800</td>\n    </tr>\n    <tr>\n      <th>31463</th>\n      <td>75122</td>\n      <td>30.9700</td>\n    </tr>\n    <tr>\n      <th>31464</th>\n      <td>75123</td>\n      <td>189.9700</td>\n    </tr>\n  </tbody>\n</table>\n<p>31465 rows × 2 columns</p>\n</div>"
          },
          "metadata": {}
        }
      ]
    },
    {
      "cell_type": "markdown",
      "source": "#### 6.2 (optional)\n\nUsing the previous query as a subquery, find the sales for each salesperson for the year 2014 and display results for the top 5 salespeople. Remember to exclude sales that are not associated with a salesperson.\n\n**Hint:** You can get the `salesorderid` and `salespersonid` pairs from the `salesorderheader` table.",
      "metadata": {
        "deletable": false,
        "editable": false,
        "nbgrader": {
          "cell_type": "markdown",
          "checksum": "db766baf417aacafb3557f7aea10b799",
          "grade": false,
          "grade_id": "cell-c81af41db468149d",
          "locked": true,
          "schema_version": 3,
          "solution": false,
          "task": false
        },
        "tags": [
          "10_min"
        ]
      }
    },
    {
      "cell_type": "code",
      "source": "# Name your variable salesperson_ordertotal\n# YOUR CODE HERE\nraise NotImplementedError() # Remove this line when you enter your solution",
      "metadata": {
        "deletable": false,
        "nbgrader": {
          "cell_type": "code",
          "checksum": "c226d1058d4f5804383df781998e17fa",
          "grade": false,
          "grade_id": "cell-64628f235432b6ff",
          "locked": false,
          "schema_version": 3,
          "solution": true,
          "task": false
        }
      },
      "execution_count": null,
      "outputs": []
    },
    {
      "cell_type": "markdown",
      "source": "The results are the same as Exercise 5. We still prefer this query though because it is generated from granular data instead of relying on hard-coded figures.",
      "metadata": {
        "deletable": false,
        "editable": false,
        "nbgrader": {
          "cell_type": "markdown",
          "checksum": "b8940565d3e14b0dfbc69c8bfd1559e2",
          "grade": false,
          "grade_id": "cell-efd2ead50c5bf994",
          "locked": true,
          "schema_version": 3,
          "solution": false,
          "task": false
        }
      }
    },
    {
      "cell_type": "markdown",
      "source": "### Exercise 7 (optional)\n\nLet's now see whether there is a positive relationship between the total sales of the salespeople and their commission percentages. Join the previous query (remove the `LIMIT` clause) with the `salesperson` table to get a table like this one:\n\n| salespersonid \t| ordertotalsum \t| commissionpct \t|\n|-:\t|-:\t|-:\t|\n| 274 \t| 178584.36250800002 \t| 0.0 \t|\n| 275 \t| 1057247.378572 \t| 0.012 \t|\n| 276 \t| 1271088.5214610002 \t| 0.015 \t|\n| 277 \t| 1040093.406901 \t| 0.015 \t|\n| ... \t| ... \t| ... \t|\n\n**Hint:** Remember that the `businessentityid` column from the `salesperson` is compatible with the `salespersonid` column in the query of exercise 6 (they both represent the salesperson ID).",
      "metadata": {
        "deletable": false,
        "editable": false,
        "nbgrader": {
          "cell_type": "markdown",
          "checksum": "025386e8704ccda1cf3bee0ab293af6e",
          "grade": false,
          "grade_id": "cell-d2882e4f911b9ddb",
          "locked": true,
          "schema_version": 3,
          "solution": false,
          "task": false
        },
        "tags": [
          "10_min"
        ]
      }
    },
    {
      "cell_type": "code",
      "source": "# Name your variable salesperson_ordertotal_commission\n# YOUR CODE HERE\nraise NotImplementedError() # Remove this line when you enter your solution",
      "metadata": {
        "deletable": false,
        "nbgrader": {
          "cell_type": "code",
          "checksum": "74afcbd94ce93642d41f4ed1d823850f",
          "grade": false,
          "grade_id": "cell-7c9e7c90b8e13ecb",
          "locked": false,
          "schema_version": 3,
          "solution": true,
          "task": false
        }
      },
      "execution_count": null,
      "outputs": []
    },
    {
      "cell_type": "markdown",
      "source": "The correlation coefficient between `ordertotalsum` and `commissionpct` is $\\rho=0.73$. This suggests that the salespeople who earn a high commission are also those who close the bigger deals.",
      "metadata": {
        "deletable": false,
        "editable": false,
        "nbgrader": {
          "cell_type": "markdown",
          "checksum": "2e947d9b22dabbae2348cd444db33741",
          "grade": false,
          "grade_id": "cell-dbaf5872225fb1ab",
          "locked": true,
          "schema_version": 3,
          "solution": false,
          "task": false
        }
      }
    },
    {
      "cell_type": "markdown",
      "source": "## Exercise 8 \n\nRemember how we mentioned that products were sold in many regions? This is why you had to work with the `culture` value before to get the English language descriptions. To make matters worse, you are told the sales are recorded in *local* currency, so your previous analyses are flawed. Technically, you must convert all amounts to USD if you wish to compare the different salespeople fairly! Instead, let's group the salespeople orders by the currency used for each order (you will have to consider `tocurrencyrate` for this task in the `CurrencyRate` table). \n\nLet's explore the currencies in different sales. But first, here are some things to understand about the currency columns:\n* The `FromCurrencyCode` is all USD, so focus on `tocurrencyrate`\n* If the sale was paid in USD, the `currencyrateid` was left blank (since there was no need to make a conversion)\n\n#### 8.1 (optional)\n\nCreate a table with the `salespersonid`, `salesorderid`, `currencyrateid` and `tocurrencycode` to see the connection. Remember to exclude sales that are not associated with a salesperson and only consider sales in 2014. Order by the salesperson ID and show only 10 rows. Your table should look like this\n\n| salespersonid \t| salesorderid\t| currencyrateid\t|tocurrencycode   |\n|-:\t|-:\t|-:\t|-: |\n| 274 \t| 65294 \t| None \t| None |\n| 274 \t| 65298 \t| None \t| None |\n| 274 \t| 67277 \t| None \t| None |\n| 274 \t| 67286\t \t| 11427\t \t| CAD |\n| 274 \t| 69528\t\t \t| None\t| None |\n| ... \t| ... \t| ... \t| ...    |\n\n**Hint**: Since `USD` would not show up in the **CurrencyRate** table, you will have to do a `LEFT JOIN` to avoid losing information. ",
      "metadata": {
        "deletable": false,
        "editable": false,
        "nbgrader": {
          "cell_type": "markdown",
          "checksum": "7843cb722f4e5554e0102da7a7e9adcc",
          "grade": false,
          "grade_id": "cell-bb851e5a0ca68a66",
          "locked": true,
          "schema_version": 3,
          "solution": false,
          "task": false
        },
        "tags": []
      }
    },
    {
      "cell_type": "code",
      "source": "# Name your variable salesperson_currency_id\n# YOUR CODE HERE\nraise NotImplementedError() # Remove this line when you enter your solution",
      "metadata": {
        "deletable": false,
        "nbgrader": {
          "cell_type": "code",
          "checksum": "bceb9eb0f8e28a121e0ed346017f8771",
          "grade": false,
          "grade_id": "cell-c6e66c75be07e7c3",
          "locked": false,
          "schema_version": 3,
          "solution": true,
          "task": false
        }
      },
      "execution_count": null,
      "outputs": []
    },
    {
      "cell_type": "markdown",
      "source": "As expected, we can see that different salespeople have sales in different currencies. \n\n**Note**: The `None` in the above example takes the place of `NULL` values, which contextually means that the sale was in USD. ",
      "metadata": {
        "deletable": false,
        "editable": false,
        "nbgrader": {
          "cell_type": "markdown",
          "checksum": "59487767332d5d27135f1ca99bda9a94",
          "grade": false,
          "grade_id": "cell-3ed9418c8261b031",
          "locked": true,
          "schema_version": 3,
          "solution": false,
          "task": false
        }
      }
    },
    {
      "cell_type": "markdown",
      "source": "#### 8.2 (optional)\n\nThe `None` in the above query can be confusing to someone who doesn't understand the database. In this case, it's best to replace them with useful information. Redo the previous exercise with the following changes:\n* Leave out the `currencyrateid` column \n* Replace `None` with 'USD' in the `tocurrencycode` column\n\n**Hint**: One way of completing this task is to use the `CASE` expression, which can be incorporated like this:\n\n~~~sql\nSELECT column1, column2, \nCASE\n    WHEN condition1 THEN result1\n    ELSE result2\nEND AS column3\nFROM Table\n~~~\n\nThe above would result in a table with the following columns\n\n|column1   |column2   |column3   |\n|-:  |-:   |-:   |\n|...  |... |... |\n\nIn the `tocurrencycode` column, the `CASE` would \n* replace `NULL` values with 'USD'\n* leave other values as they are  ",
      "metadata": {
        "deletable": false,
        "editable": false,
        "nbgrader": {
          "cell_type": "markdown",
          "checksum": "97ea2fb9da8a24294642a97cabfad5e6",
          "grade": false,
          "grade_id": "cell-f1f9352209f56cb1",
          "locked": true,
          "schema_version": 3,
          "solution": false,
          "task": false
        },
        "tags": []
      }
    },
    {
      "cell_type": "code",
      "source": "# Name your variable salesperson_currency_code\n# YOUR CODE HERE\nraise NotImplementedError() # Remove this line when you enter your solution",
      "metadata": {
        "deletable": false,
        "nbgrader": {
          "cell_type": "code",
          "checksum": "7e91f1dc2d87e1d7f611389b520ee44c",
          "grade": false,
          "grade_id": "cell-ba597bcf37dd80cd",
          "locked": false,
          "schema_version": 3,
          "solution": true,
          "task": false
        }
      },
      "execution_count": null,
      "outputs": []
    },
    {
      "cell_type": "markdown",
      "source": "### Exercise 9 (optional)\n\nNow that we have the currency codes associated with each salesperson ID, redo Exercise 7 adding in the `tocurrencycode`. Order the results by currency (ascending) and total sales (descending) to make it easier to see who the best salespeople are for each currency.\n\n**Hint:** Start with Exercise 7 and integrate the currency piece using the `CASE` expression and `LEFT JOIN` from Exercise 8.2 (removing the `LIMIT` clause).",
      "metadata": {
        "deletable": false,
        "editable": false,
        "nbgrader": {
          "cell_type": "markdown",
          "checksum": "f84e56f241aa724210775eda8fc67bb7",
          "grade": false,
          "grade_id": "cell-263a8de6ce76022b",
          "locked": true,
          "schema_version": 3,
          "solution": false,
          "task": false
        },
        "tags": []
      }
    },
    {
      "cell_type": "code",
      "source": "# Name your variable salesperson_ranking_currency\n# YOUR CODE HERE\nraise NotImplementedError() # Remove this line when you enter your solution",
      "metadata": {
        "deletable": false,
        "nbgrader": {
          "cell_type": "code",
          "checksum": "70c09e8c6e174009700be7d627283459",
          "grade": false,
          "grade_id": "cell-bc92e7af01233ff3",
          "locked": false,
          "schema_version": 3,
          "solution": true,
          "task": false
        }
      },
      "execution_count": null,
      "outputs": []
    },
    {
      "cell_type": "markdown",
      "source": "## Testing cells",
      "metadata": {
        "deletable": false,
        "editable": false,
        "nbgrader": {
          "cell_type": "markdown",
          "checksum": "33a7b93cbfb6056920b4f533c21e1174",
          "grade": false,
          "grade_id": "cell-d65bb2f7ec8fc249",
          "locked": true,
          "schema_version": 3,
          "solution": false,
          "task": false
        }
      }
    },
    {
      "cell_type": "code",
      "source": "# Ex. 1\nassert \"rating_ranking\" in globals(), \"Ex. 1 - Remember that your variable's name should be `rating_ranking`!\"\nrating_ranking_result = pd.read_sql(rating_ranking, cxn)\nassert len(rating_ranking_result) > 0, \"Ex. 1 - Your code is not producing any output! (ie., a table with lenght zero)\"\nassert set(rating_ranking_result.columns) == {'NAME', 'avgrating', 'num_ratings', 'productid'}, \"Ex. 1 - Your query result doesn't have exactly these columns: 'NAME', 'avgrating', 'num_ratings', 'productid'\"\nprint(\"Exercise 1 looks fine for now. You will get your final grade after we've reviewed your submission.\")",
      "metadata": {
        "deletable": false,
        "editable": false,
        "nbgrader": {
          "cell_type": "code",
          "checksum": "bdf95eb3751a7695b1d13e83036cb8af",
          "grade": true,
          "grade_id": "cell-29e14bdb09e858b0",
          "locked": true,
          "points": 1,
          "schema_version": 3,
          "solution": false,
          "task": false
        },
        "trusted": true
      },
      "execution_count": null,
      "outputs": []
    },
    {
      "cell_type": "code",
      "source": "# Ex. 2.1\nassert \"productmodelid_description\" in globals(), \"Ex. 2.1 - Remember that your variable's name should be `productmodelid_description`!\"\nproductmodelid_description_result = pd.read_sql(productmodelid_description, cxn)\nassert len(productmodelid_description_result) == 127, \"Ex. 2.1 - There are 127 product models in the database, but your query produces a different number. Make sure that you don't have any LIMIT clauses in this exercise!\"\nassert set(productmodelid_description_result.columns) == {'description', 'productmodelid'}, \"Ex. 2.1 - Your query result doesn't have exactly these columns: 'description', 'productmodelid'\"\nprint(\"Exercise 2.1 looks fine for now. You will get your final grade after we've reviewed your submission.\")",
      "metadata": {
        "deletable": false,
        "editable": false,
        "nbgrader": {
          "cell_type": "code",
          "checksum": "e994e7d91805d0f45f420d3a2590724e",
          "grade": true,
          "grade_id": "cell-370002132f6f0cd5",
          "locked": true,
          "points": 1,
          "schema_version": 3,
          "solution": false,
          "task": false
        },
        "trusted": true
      },
      "execution_count": null,
      "outputs": []
    },
    {
      "cell_type": "code",
      "source": "# Ex. 2.2\nassert \"description_totalorders\" in globals(), \"Ex. 2.2 - Remember that your variable's name should be `description_totalorders`!\"\ndescription_totalorders_result = pd.read_sql(description_totalorders, cxn)\nassert len(description_totalorders_result) == 10, \"Ex. 2.2 - Remember to use LIMIT 10 in your query! This is a top 10!\"\nassert set(description_totalorders_result.columns) == {'NAME', 'description', 'productmodelid', 'total_orders'}, \"Ex. 2.2 - Your query result doesn't have exactly these columns: 'NAME', 'description', 'productmodelid', 'total_orders'\"\nprint(\"Exercise 2.2 looks fine for now. You will get your final grade after we've reviewed your submission.\")",
      "metadata": {
        "deletable": false,
        "editable": false,
        "nbgrader": {
          "cell_type": "code",
          "checksum": "e1e9ceddc217dcb51077e850d52e8bec",
          "grade": true,
          "grade_id": "cell-e6b2fdfb34b554da",
          "locked": true,
          "points": 2,
          "schema_version": 3,
          "solution": false,
          "task": false
        }
      },
      "execution_count": null,
      "outputs": []
    },
    {
      "cell_type": "code",
      "source": "# Ex. 3.1\nassert \"quantities_ordered\" in globals(), \"Ex. 3.1 - Remember that your variable's name should be `quantities_ordered`!\"\nquantities_ordered_result = pd.read_sql(quantities_ordered, con=cxn)\nassert len(quantities_ordered_result) == 266, \"Ex. 2 - There are 266 products in the database that have associated quantities, but your query produces a different number. Make sure that you don't have any LIMIT clauses in this exercise and don't filter by culture!\"\nassert set(quantities_ordered_result.columns) == {'productid', 'quantity'}, \"Ex. 3.1 - Your query result doesn't have exactly these columns: 'productid', 'quantity'\"\nprint(\"Exercise 3.1 looks fine for now. You will get your final grade after we've reviewed your submission.\")",
      "metadata": {
        "deletable": false,
        "editable": false,
        "nbgrader": {
          "cell_type": "code",
          "checksum": "c289e17abbba8cda24de7e156a7b5877",
          "grade": true,
          "grade_id": "cell-e30d0d11146882d3",
          "locked": true,
          "points": 1,
          "schema_version": 3,
          "solution": false,
          "task": false
        },
        "trusted": true
      },
      "execution_count": null,
      "outputs": []
    },
    {
      "cell_type": "code",
      "source": "# Ex. 3.2\nassert \"products_prices\" in globals(), \"Ex. 3.2 - Remember that your variable's name should be `products_prices`!\"\nproducts_prices_result = pd.read_sql(products_prices, cxn)\nassert len(products_prices_result) == 295, \"Ex. 3.2 - There are 295 products in the database that have prices, but your query produces a different number. Make sure that you don't have any LIMIT clauses in this exercise!\"\nassert set(products_prices_result.columns) == {'category', 'listprice', 'productid', 'subcategory'}, \"Ex. 3.2 - Your query result doesn't have exactly these columns: 'category', 'listprice', 'productid', 'subcategory'\"\nprint(\"Exercise 3.2 looks fine for now. You will get your final grade after we've reviewed your submission.\")",
      "metadata": {
        "deletable": false,
        "editable": false,
        "nbgrader": {
          "cell_type": "code",
          "checksum": "b998de9b147f4d751895a649d7bb8f98",
          "grade": true,
          "grade_id": "cell-14e69055e8ccbb0e",
          "locked": true,
          "points": 1,
          "schema_version": 3,
          "solution": false,
          "task": false
        },
        "trusted": true
      },
      "execution_count": null,
      "outputs": []
    },
    {
      "cell_type": "code",
      "source": "# Ex. 3.3\nassert \"prices_quantities\" in globals(), \"Ex. 3.3 - Remember that your variable's name should be `prices_quantities`!\"\nprices_quantities_result = pd.read_sql(prices_quantities, cxn)\nassert len(prices_quantities_result) == 35, \"Ex. 3.3 - There are 35 subcategories in the database, but your query produces a different number. Make sure that you don't have any LIMIT clauses in this exercise!\"\nassert set(prices_quantities_result.columns) == {'average_price_in_subcategory', 'category', 'subcategory', 'total_items_sold_in_subcategory'}, \"Ex. 3.3 - Your query result doesn't have exactly these columns: 'average_price_in_subcategory', 'category', 'subcategory', 'total_items_sold_in_subcategory'\"\nprint(\"Exercise 3.3 looks fine for now. You will get your final grade after we've reviewed your submission.\")",
      "metadata": {
        "deletable": false,
        "editable": false,
        "nbgrader": {
          "cell_type": "code",
          "checksum": "2206f43cb2a97b6e90d0c2f8247f42f5",
          "grade": true,
          "grade_id": "cell-8ce8909f18760be3",
          "locked": true,
          "points": 3,
          "schema_version": 3,
          "solution": false,
          "task": false
        }
      },
      "execution_count": null,
      "outputs": []
    },
    {
      "cell_type": "code",
      "source": "# Ex. 4\nassert \"salesperson_sales\" in globals(), \"Ex. 4 - Remember that your variable's name should be `salesperson_sales`!\"\nsalesperson_sales_result = pd.read_sql(salesperson_sales, cxn)\nassert len(salesperson_sales_result) == 5, \"Ex. 4 - This is a top 5. Remember to use LIMIT!\"\nassert set(salesperson_sales_result.columns) == {'businessentityid', 'salesytd'}, \"Ex. 4 - Your query result doesn't have exactly these columns: 'businessentityid', 'salesytd'\"\nprint(\"Exercise 4 looks fine for now. You will get your final grade after we've reviewed your submission.\")",
      "metadata": {
        "deletable": false,
        "editable": false,
        "nbgrader": {
          "cell_type": "code",
          "checksum": "f413b6f85300a5de8b291fd09bdf5102",
          "grade": true,
          "grade_id": "cell-c8897684329e63da",
          "locked": true,
          "points": 1,
          "schema_version": 3,
          "solution": false,
          "task": false
        },
        "trusted": true
      },
      "execution_count": null,
      "outputs": []
    },
    {
      "cell_type": "code",
      "source": "# Ex. 5\nassert \"salesperson_totalsales\" in globals(), \"Ex. 5 - Remember that your variable's name should be `salesperson_totalsales`!\"\nsalesperson_totalsales_result = pd.read_sql(salesperson_totalsales, cxn)\nassert len(salesperson_totalsales_result) == 5, \"Ex. 5 - This is a top 5. Remember to use LIMIT!\"\nassert set(salesperson_totalsales_result.columns) == {'salespersonid', 'totalsales'}, \"Ex. 5 - Your query result doesn't have exactly these columns: 'salespersonid', 'totalsales'\"\nprint(\"Exercise 5 looks fine for now. You will get your final grade after we've reviewed your submission.\")",
      "metadata": {
        "deletable": false,
        "editable": false,
        "nbgrader": {
          "cell_type": "code",
          "checksum": "48a21b6b128737e2dfaa8bf84e36f696",
          "grade": true,
          "grade_id": "cell-503bf8ba7d420ac9",
          "locked": true,
          "points": 2,
          "schema_version": 3,
          "solution": false,
          "task": false
        },
        "trusted": true
      },
      "execution_count": null,
      "outputs": []
    },
    {
      "cell_type": "code",
      "source": "# Ex. 6.1\nassert \"order_ordertotal\" in globals(), \"Ex. 6.1 - Remember that your variable's name should be `order_ordertotal`!\"\norder_ordertotal_result = pd.read_sql(order_ordertotal, cxn)\nassert len(order_ordertotal_result) == 31465, \"Ex. 6.1 - There are more than 31,000 orders in the database. Remember to NOT use LIMIT here!\"\nassert set(order_ordertotal_result.columns) == {'ordertotal', 'salesorderid'}, \"Ex. 6.1 - Your query result doesn't have exactly these columns: 'ordertotal', 'salesorderid'\"\nprint(\"Exercise 6.1 looks fine for now. You will get your final grade after we've reviewed your submission.\")",
      "metadata": {
        "deletable": false,
        "editable": false,
        "nbgrader": {
          "cell_type": "code",
          "checksum": "a2f66c1e3f4d21d6dfda6c2a8b9d6b04",
          "grade": true,
          "grade_id": "cell-f1d677e5d64d1727",
          "locked": true,
          "points": 1,
          "schema_version": 3,
          "solution": false,
          "task": false
        },
        "trusted": true
      },
      "execution_count": null,
      "outputs": []
    },
    {
      "cell_type": "code",
      "source": "# Ex. 6.2\nassert \"salesperson_ordertotal\" in globals(), \"Ex. 6.2 - Remember that your variable's name should be `salesperson_ordertotal`!\"\nsalesperson_ordertotal_result = pd.read_sql(salesperson_ordertotal, cxn)\nassert len(salesperson_ordertotal_result) == 5, \"Ex. 6.2 - There are too many or too few rows in your result. Remember to use LIMIT here!\"\nassert set(salesperson_ordertotal_result.columns) == {'ordertotalsum', 'salespersonid'}, \"Ex. 6.2 - Your query result doesn't have exactly these columns: 'ordertotalsum', 'salespersonid'\"\nprint(\"Exercise 6.2 looks fine for now. You will get your final grade after we've reviewed your submission.\")",
      "metadata": {
        "deletable": false,
        "editable": false,
        "nbgrader": {
          "cell_type": "code",
          "checksum": "ae832b2a241e4aa5fb94243fc768f6f4",
          "grade": true,
          "grade_id": "cell-3a94c2af688b0a91",
          "locked": true,
          "points": 2,
          "schema_version": 3,
          "solution": false,
          "task": false
        }
      },
      "execution_count": null,
      "outputs": []
    },
    {
      "cell_type": "code",
      "source": "# Ex. 7\nassert \"salesperson_ordertotal_commission\" in globals(), \"Ex. 7 - Remember that your variable's name should be `salesperson_ordertotal_commission`!\"\nsalesperson_ordertotal_commission_result = pd.read_sql(salesperson_ordertotal_commission, cxn)\nassert len(salesperson_ordertotal_commission_result) == 17, \"Ex. 7 - There are too many or too few rows in your result. Remember to NOT use LIMIT here!\"\nassert set(salesperson_ordertotal_commission_result.columns) == {'commissionpct', 'ordertotalsum', 'salespersonid'}, \"Ex. 7 - Your query result doesn't have exactly these columns: 'commissionpct', 'ordertotalsum', 'salespersonid'\"\nprint(\"Exercise 7 looks fine for now. You will get your final grade after we've reviewed your submission.\")",
      "metadata": {
        "deletable": false,
        "editable": false,
        "nbgrader": {
          "cell_type": "code",
          "checksum": "49bb553e010443ea1bdc37041038aeba",
          "grade": true,
          "grade_id": "cell-24f2ce69478088c4",
          "locked": true,
          "points": 3,
          "schema_version": 3,
          "solution": false,
          "task": false
        }
      },
      "execution_count": null,
      "outputs": []
    },
    {
      "cell_type": "code",
      "source": "# Ex. 8.1\nassert \"salesperson_currency_id\" in globals(), \"Ex. 8.1 - Remember that your variable's name should be `salesperson_currency_id`!\"\nsalesperson_currency_result = pd.read_sql(salesperson_currency_id, cxn)\nassert len(salesperson_currency_result) == 10, \"Ex. 8.1 - There are too many or too few rows in your result. Remember to use LIMIT here!\"\nassert set(salesperson_currency_result.columns) == {'salespersonid', 'salesorderid', 'currencyrateid','tocurrencycode'}, \"Ex. 8.1 - Your query result doesn't have exactly these columns: 'salespersonid', 'salesorderid', 'currencyrateid','tocurrencycode'\"\nprint(\"Exercise 8.1 looks fine for now. You will get your final grade after we've reviewed your submission.\")",
      "metadata": {
        "deletable": false,
        "editable": false,
        "nbgrader": {
          "cell_type": "code",
          "checksum": "f0efe56f5d5d2f2034f19903434c6779",
          "grade": true,
          "grade_id": "cell-83fb135746864918",
          "locked": true,
          "points": 1,
          "schema_version": 3,
          "solution": false,
          "task": false
        }
      },
      "execution_count": null,
      "outputs": []
    },
    {
      "cell_type": "code",
      "source": "# Ex. 8.2\nassert \"salesperson_currency_code\" in globals(), \"Ex. 8.2 - Remember that your variable's name should be `salesperson_currency_code`!\"\nsalesperson_currency_result2 = pd.read_sql(salesperson_currency_code, cxn)\nassert len(salesperson_currency_result2) == 10, \"Ex. 8.2 - There are too many or too few rows in your result. Remember to use LIMIT here!\"\nassert set(salesperson_currency_result2.columns) == {'salespersonid', 'salesorderid','tocurrencycode'}, \"Ex. 8.2 - Your query result doesn't have exactly these columns: 'salespersonid', 'salesorderid', 'currencyrateid','tocurrencycode'\"\nprint(\"Exercise 8.2 looks fine for now. You will get your final grade after we've reviewed your submission.\")",
      "metadata": {
        "deletable": false,
        "editable": false,
        "nbgrader": {
          "cell_type": "code",
          "checksum": "0cfaa2a9f39fb32a925bf7610848457a",
          "grade": true,
          "grade_id": "cell-4e52c4425757ddad",
          "locked": true,
          "points": 2,
          "schema_version": 3,
          "solution": false,
          "task": false
        }
      },
      "execution_count": null,
      "outputs": []
    },
    {
      "cell_type": "code",
      "source": "# Ex. 9\nassert \"salesperson_ranking_currency\" in globals(), \"Ex. 9 - Remember that your variable's name should be `salesperson_ranking_currency`!\"\nsalesperson_ranking_currency_result = pd.read_sql(salesperson_ranking_currency, cxn)\nassert len(salesperson_ranking_currency_result) == 21, \"Ex. 9 - There are too many or too few rows in your result. Remember to NOT use LIMIT here!\"\nassert set(salesperson_ranking_currency_result.columns) == {'salespersonid', 'tocurrencycode', 'ordertotalsum', 'commissionpct'}, \"Ex. 9 - Your query result doesn't have exactly these columns: 'salespersonid', 'tocurrencycode', 'ordertotalsum', 'commissionpct'\"\nprint(\"Exercise 9 looks fine for now. You will get your final grade after we've reviewed your submission.\")",
      "metadata": {
        "deletable": false,
        "editable": false,
        "nbgrader": {
          "cell_type": "code",
          "checksum": "2f2928053fa9274b9242b2a3e70dbbc7",
          "grade": true,
          "grade_id": "cell-c5b13f88eb54b0fd",
          "locked": true,
          "points": 3,
          "schema_version": 3,
          "solution": false,
          "task": false
        }
      },
      "execution_count": null,
      "outputs": []
    },
    {
      "cell_type": "markdown",
      "source": "## Attribution\n\n\"AdventureWorks database\", Nov 7, 2017, Microsoft Corporation, [MIT License](https://docs.microsoft.com/en-us/sql/samples/sql-samples-where-are?view=sql-server-ver15), https://github.com/microsoft/sql-server-samples/tree/master/samples/databases/adventure-works",
      "metadata": {}
    }
  ]
}